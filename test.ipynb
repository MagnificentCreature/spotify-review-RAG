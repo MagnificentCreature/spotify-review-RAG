{
 "cells": [
  {
   "cell_type": "code",
   "execution_count": null,
   "metadata": {},
   "outputs": [
    {
     "ename": "RuntimeError",
     "evalue": "Error in faiss::FileIOReader::FileIOReader(const char*) at /project/faiss/faiss/impl/io.cpp:67: Error: 'f' failed: could not open index.faiss for reading: No such file or directory",
     "output_type": "error",
     "traceback": [
      "\u001b[31m---------------------------------------------------------------------------\u001b[39m",
      "\u001b[31mRuntimeError\u001b[39m                              Traceback (most recent call last)",
      "\u001b[32m/tmp/ipykernel_61955/2214128350.py\u001b[39m in \u001b[36m?\u001b[39m\u001b[34m()\u001b[39m\n\u001b[32m      1\u001b[39m \u001b[38;5;28;01mimport\u001b[39;00m faiss\n\u001b[32m----> \u001b[39m\u001b[32m2\u001b[39m faiss.read_index(\u001b[33m\"index.faiss\"\u001b[39m)\n",
      "\u001b[32m~/.local/lib/python3.12/site-packages/faiss/swigfaiss_avx2.py\u001b[39m in \u001b[36m?\u001b[39m\u001b[34m(*args)\u001b[39m\n\u001b[32m  10946\u001b[39m \u001b[38;5;28;01mdef\u001b[39;00m read_index(*args):\n\u001b[32m> \u001b[39m\u001b[32m10947\u001b[39m     \u001b[38;5;28;01mreturn\u001b[39;00m _swigfaiss_avx2.read_index(*args)\n",
      "\u001b[31mRuntimeError\u001b[39m: Error in faiss::FileIOReader::FileIOReader(const char*) at /project/faiss/faiss/impl/io.cpp:67: Error: 'f' failed: could not open index.faiss for reading: No such file or directory"
     ]
    }
   ],
   "source": [
    "# import faiss\n",
    "# faiss.read_index(\"index.faiss\")"
   ]
  },
  {
   "cell_type": "code",
   "execution_count": 5,
   "metadata": {},
   "outputs": [
    {
     "name": "stdout",
     "output_type": "stream",
     "text": [
      "      review_text  rating  user_id\n",
      "0      Great app!       5      101\n",
      "1   Love this app       5      102\n",
      "2        Awesome!       4      103\n",
      "3     Very useful       4      106\n",
      "4         Not bad       3      108\n",
      "5  Not bad at all       3      109\n"
     ]
    }
   ],
   "source": [
    "import pandas as pd\n",
    "from rapidfuzz import process, fuzz\n",
    "\n",
    "# Example dataset\n",
    "df = pd.DataFrame({\n",
    "    \"review_text\": [\n",
    "        \"Great app!\", \"Love this app\", \"Awesome!\", \"great app\", \n",
    "        \"Great app!!\", \"Very useful\", \"Very very useful\", \"Not bad\", \"Not bad at all\"\n",
    "    ],\n",
    "    \"rating\": [5, 5, 4, 5, 5, 4, 4, 3, 3],  # Keeping an additional column\n",
    "    \"user_id\": [101, 102, 103, 104, 105, 106, 107, 108, 109]  # Example user data\n",
    "})\n",
    "\n",
    "# Function to remove duplicate reviews while keeping all columns\n",
    "def deduplicate_dataframe(df, text_column=\"review_text\", threshold=80):\n",
    "    seen = {}  # Dictionary to track unique reviews with indexes\n",
    "    unique_indexes = []\n",
    "\n",
    "    for index, review in df[text_column].items():\n",
    "        # Find best match from seen reviews\n",
    "        match = process.extractOne(review, seen.keys(), scorer=fuzz.ratio)\n",
    "        \n",
    "        # If no close match or similarity is below threshold, keep review\n",
    "        if not match or match[1] < threshold:\n",
    "            seen[review] = index\n",
    "            unique_indexes.append(index)\n",
    "\n",
    "    # Return deduplicated DataFrame\n",
    "    return df.loc[unique_indexes].reset_index(drop=True)\n",
    "\n",
    "# Apply deduplication while preserving all columns\n",
    "df_deduplicated = deduplicate_dataframe(df)\n",
    "\n",
    "print(df_deduplicated)\n"
   ]
  },
  {
   "cell_type": "code",
   "execution_count": 6,
   "metadata": {},
   "outputs": [
    {
     "name": "stdout",
     "output_type": "stream",
     "text": [
      "     review_text  rating  user_id\n",
      "0     great app!       5      101\n",
      "1  love this app       5      102\n",
      "2       awesome!       4      103\n",
      "3    very useful       4      106\n",
      "4        not bad       3      108\n"
     ]
    }
   ],
   "source": [
    "import pandas as pd\n",
    "import numpy as np\n",
    "from sklearn.feature_extraction.text import TfidfVectorizer\n",
    "from sklearn.metrics.pairwise import cosine_similarity\n",
    "\n",
    "def vectorized_deduplicate_dataframe(df, text_column=\"review_text\", threshold=0.8):\n",
    "    \"\"\"\n",
    "    Efficiently deduplicates a dataframe based on text similarity using TF-IDF and cosine similarity.\n",
    "    \n",
    "    Args:\n",
    "    - df (pd.DataFrame): Input DataFrame containing text data.\n",
    "    - text_column (str): Column name of text data.\n",
    "    - threshold (float): Similarity threshold (0 to 1), where higher means stricter deduplication.\n",
    "    \n",
    "    Returns:\n",
    "    - pd.DataFrame: Deduplicated DataFrame with all original columns preserved.\n",
    "    \"\"\"\n",
    "\n",
    "    # Convert text data to lowercase and drop NaNs\n",
    "    df = df.dropna(subset=[text_column]).copy()\n",
    "    df[text_column] = df[text_column].astype(str).str.lower()\n",
    "\n",
    "    # Compute TF-IDF embeddings\n",
    "    vectorizer = TfidfVectorizer(stop_words=\"english\")\n",
    "    tfidf_matrix = vectorizer.fit_transform(df[text_column])\n",
    "\n",
    "    # Compute cosine similarity matrix\n",
    "    similarity_matrix = cosine_similarity(tfidf_matrix, tfidf_matrix)\n",
    "\n",
    "    # Identify duplicates\n",
    "    unique_indexes = []\n",
    "    seen = set()\n",
    "\n",
    "    for i in range(len(df)):\n",
    "        if i in seen:\n",
    "            continue\n",
    "        # Find similar reviews\n",
    "        similar_indexes = np.where(similarity_matrix[i] > threshold)[0]\n",
    "        seen.update(similar_indexes)  # Mark them as seen\n",
    "        unique_indexes.append(i)  # Keep only the first occurrence\n",
    "\n",
    "    # Return deduplicated DataFrame\n",
    "    return df.iloc[unique_indexes].reset_index(drop=True)\n",
    "\n",
    "# Example dataset\n",
    "df = pd.DataFrame({\n",
    "    \"review_text\": [\n",
    "        \"Great app!\", \"Love this app\", \"Awesome!\", \"great app\", \n",
    "        \"Great app!!\", \"Very useful\", \"Very very useful\", \"Not bad\", \"Not bad at all\"\n",
    "    ],\n",
    "    \"rating\": [5, 5, 4, 5, 5, 4, 4, 3, 3],  # Additional metadata\n",
    "    \"user_id\": [101, 102, 103, 104, 105, 106, 107, 108, 109]  # Example user data\n",
    "})\n",
    "\n",
    "# Apply deduplication\n",
    "df_deduplicated = vectorized_deduplicate_dataframe(df)\n",
    "\n",
    "print(df_deduplicated)\n"
   ]
  },
  {
   "cell_type": "code",
   "execution_count": null,
   "metadata": {},
   "outputs": [],
   "source": []
  }
 ],
 "metadata": {
  "kernelspec": {
   "display_name": "Python 3",
   "language": "python",
   "name": "python3"
  },
  "language_info": {
   "codemirror_mode": {
    "name": "ipython",
    "version": 3
   },
   "file_extension": ".py",
   "mimetype": "text/x-python",
   "name": "python",
   "nbconvert_exporter": "python",
   "pygments_lexer": "ipython3",
   "version": "3.12.9"
  }
 },
 "nbformat": 4,
 "nbformat_minor": 2
}

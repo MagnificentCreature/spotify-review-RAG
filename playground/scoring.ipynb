{
 "cells": [
  {
   "cell_type": "code",
   "execution_count": null,
   "metadata": {},
   "outputs": [],
   "source": [
    "from bert_score import score\n",
    "\n",
    "def evaluate_bertscore(generated_text, reference_text):\n",
    "    P, R, F1 = score([generated_text], [reference_text], lang=\"en\")\n",
    "    return {\"Precision\": P.item(), \"Recall\": R.item(), \"F1\": F1.item()}\n",
    "\n",
    "# Example texts\n",
    "gen_text = \"The quick brown fox jumps over the lazy dog.\"\n",
    "ref_text = \"A fast brown fox leaps over a sleepy canine.\"\n",
    "\n",
    "# Compute semantic similarity\n",
    "print(evaluate_bertscore(gen_text, ref_text))"
   ]
  }
 ],
 "metadata": {
  "language_info": {
   "name": "python"
  }
 },
 "nbformat": 4,
 "nbformat_minor": 2
}
